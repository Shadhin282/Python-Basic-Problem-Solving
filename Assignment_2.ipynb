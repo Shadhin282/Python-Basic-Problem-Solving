{
  "nbformat": 4,
  "nbformat_minor": 0,
  "metadata": {
    "colab": {
      "provenance": [],
      "authorship_tag": "ABX9TyO4oGFxto3bbolTiWalDMb9",
      "include_colab_link": true
    },
    "kernelspec": {
      "name": "python3",
      "display_name": "Python 3"
    },
    "language_info": {
      "name": "python"
    }
  },
  "cells": [
    {
      "cell_type": "markdown",
      "metadata": {
        "id": "view-in-github",
        "colab_type": "text"
      },
      "source": [
        "<a href=\"https://colab.research.google.com/github/Shadhin282/Python-Basic-Problem-Solving/blob/main/Assignment_2.ipynb\" target=\"_parent\"><img src=\"https://colab.research.google.com/assets/colab-badge.svg\" alt=\"Open In Colab\"/></a>"
      ]
    },
    {
      "cell_type": "code",
      "execution_count": null,
      "metadata": {
        "id": "3cdzvd7H71xZ"
      },
      "outputs": [],
      "source": [
        "# 1. Write a program that swaps the values of two variables."
      ]
    },
    {
      "cell_type": "code",
      "source": [
        "a = 5\n",
        "b = 6"
      ],
      "metadata": {
        "id": "gZQVPrAv8CkL"
      },
      "execution_count": null,
      "outputs": []
    },
    {
      "cell_type": "code",
      "source": [
        "a,b = b,a"
      ],
      "metadata": {
        "id": "U8gfPUkc9fME"
      },
      "execution_count": null,
      "outputs": []
    },
    {
      "cell_type": "code",
      "source": [
        "a"
      ],
      "metadata": {
        "colab": {
          "base_uri": "https://localhost:8080/"
        },
        "id": "z2NFZ8CO9hOT",
        "outputId": "8d72d184-c9a8-403a-fa2a-e7b02b828c0d"
      },
      "execution_count": null,
      "outputs": [
        {
          "output_type": "execute_result",
          "data": {
            "text/plain": [
              "6"
            ]
          },
          "metadata": {},
          "execution_count": 4
        }
      ]
    },
    {
      "cell_type": "code",
      "source": [
        "b"
      ],
      "metadata": {
        "colab": {
          "base_uri": "https://localhost:8080/"
        },
        "id": "PLIZyW259iap",
        "outputId": "e902799e-069a-4d5d-d045-6910d93c7b41"
      },
      "execution_count": null,
      "outputs": [
        {
          "output_type": "execute_result",
          "data": {
            "text/plain": [
              "5"
            ]
          },
          "metadata": {},
          "execution_count": 5
        }
      ]
    },
    {
      "cell_type": "code",
      "source": [
        "# 2. Write a program that calculates the area of a rectangle given its length and width."
      ],
      "metadata": {
        "id": "D80dUes69jK8"
      },
      "execution_count": null,
      "outputs": []
    },
    {
      "cell_type": "code",
      "source": [
        "x = 5\n",
        "y = 10\n",
        "Rectangle_Area = x * y\n"
      ],
      "metadata": {
        "id": "EcGu2YQb_WRd"
      },
      "execution_count": null,
      "outputs": []
    },
    {
      "cell_type": "code",
      "source": [
        "print(Rectangle_Area)"
      ],
      "metadata": {
        "colab": {
          "base_uri": "https://localhost:8080/"
        },
        "id": "pM47IdM8BTGT",
        "outputId": "12b08bf5-f956-4f42-cae2-ab30883fc794"
      },
      "execution_count": null,
      "outputs": [
        {
          "output_type": "stream",
          "name": "stdout",
          "text": [
            "50\n"
          ]
        }
      ]
    },
    {
      "cell_type": "code",
      "source": [
        "# 3. Write a program that converts temperature from Fahrenheit to Celsius."
      ],
      "metadata": {
        "id": "FzUX7tBfBV21"
      },
      "execution_count": null,
      "outputs": []
    },
    {
      "cell_type": "code",
      "source": [
        "fahrenheit = 104\n",
        "celsius = (fahrenheit - 32) * 5 / 9"
      ],
      "metadata": {
        "id": "_MnN6cMQBbXi"
      },
      "execution_count": null,
      "outputs": []
    },
    {
      "cell_type": "code",
      "source": [
        "print(celsius)"
      ],
      "metadata": {
        "colab": {
          "base_uri": "https://localhost:8080/"
        },
        "id": "RDtOdrHtBvqH",
        "outputId": "d34de8dd-e37c-4e8e-cb9d-c5b5a2771df5"
      },
      "execution_count": null,
      "outputs": [
        {
          "output_type": "stream",
          "name": "stdout",
          "text": [
            "40.0\n"
          ]
        }
      ]
    },
    {
      "cell_type": "code",
      "source": [
        "# 4. Write a program that calculates the volume of a sphere given its radius."
      ],
      "metadata": {
        "id": "gv9FS9J2By8Y"
      },
      "execution_count": null,
      "outputs": []
    },
    {
      "cell_type": "code",
      "source": [
        "radius = 5\n",
        "pie = 3.1416\n",
        "Volume_of_sphere = 4/3*pie*radius"
      ],
      "metadata": {
        "id": "sPCS9-ABBNec"
      },
      "execution_count": null,
      "outputs": []
    },
    {
      "cell_type": "code",
      "source": [
        "print(Volume_of_sphere)"
      ],
      "metadata": {
        "colab": {
          "base_uri": "https://localhost:8080/"
        },
        "id": "B249n80JC6eu",
        "outputId": "fdf11140-f4c5-4b78-fd84-216878435e3d"
      },
      "execution_count": null,
      "outputs": [
        {
          "output_type": "stream",
          "name": "stdout",
          "text": [
            "20.944\n"
          ]
        }
      ]
    },
    {
      "cell_type": "code",
      "source": [
        "# 5. Write a program that finds the average of three numbers."
      ],
      "metadata": {
        "id": "AvUvRb0VC-lJ"
      },
      "execution_count": null,
      "outputs": []
    },
    {
      "cell_type": "code",
      "source": [
        "a,b,c = 10,4,29\n",
        "average = (a+b+c)/3"
      ],
      "metadata": {
        "id": "lGKuqKCKDKqB"
      },
      "execution_count": null,
      "outputs": []
    },
    {
      "cell_type": "code",
      "source": [
        "print(average)"
      ],
      "metadata": {
        "colab": {
          "base_uri": "https://localhost:8080/"
        },
        "id": "6xH_AWDvDezo",
        "outputId": "f2ed8957-f99a-4598-cda2-39bbeb707b19"
      },
      "execution_count": null,
      "outputs": [
        {
          "output_type": "stream",
          "name": "stdout",
          "text": [
            "14.333333333333334\n"
          ]
        }
      ]
    },
    {
      "cell_type": "code",
      "source": [
        "# 6. Write a program that determines if a number is even or odd."
      ],
      "metadata": {
        "id": "72O_u8dkDg0J"
      },
      "execution_count": null,
      "outputs": []
    },
    {
      "cell_type": "code",
      "source": [
        "n = int(input('Enter a number '))\n",
        "if n%2==0:\n",
        "  print(n,\" is a even number\")\n",
        "else:\n",
        "  print(n, \" is a odd number\")"
      ],
      "metadata": {
        "colab": {
          "base_uri": "https://localhost:8080/"
        },
        "id": "Vk2pKsrTDntZ",
        "outputId": "01d6345d-5847-44a2-d156-b68c71736b41"
      },
      "execution_count": null,
      "outputs": [
        {
          "output_type": "stream",
          "name": "stdout",
          "text": [
            "Enter a number 4\n",
            "4  is a even number\n"
          ]
        }
      ]
    },
    {
      "cell_type": "code",
      "source": [
        "# 7. Write a program that finds the maximum of three numbers."
      ],
      "metadata": {
        "id": "H-xSb-7zEd0v"
      },
      "execution_count": null,
      "outputs": []
    },
    {
      "cell_type": "code",
      "source": [
        "a = int(input('Enter a number '))\n",
        "b = int(input('Enter a number '))\n",
        "c = int(input('Enter a number '))\n",
        "if a > b and a>c :\n",
        "  print(a,' is a maximum number.')\n",
        "elif b > a and b > c:\n",
        "  print(b,' is a maximum number.')\n",
        "elif c > a and c > b:\n",
        "  print(c,' is a maximum number.')\n",
        "else:\n",
        "  print(\"There is no maximum number.\")\n",
        "\n",
        "\n"
      ],
      "metadata": {
        "colab": {
          "base_uri": "https://localhost:8080/"
        },
        "id": "8WlDXnMqD_Bh",
        "outputId": "d1e98f06-5377-4144-f774-288d8445cfda"
      },
      "execution_count": null,
      "outputs": [
        {
          "output_type": "stream",
          "name": "stdout",
          "text": [
            "Enter a number 4\n",
            "Enter a number 15\n",
            "Enter a number 2\n",
            "15  is a maximum number.\n"
          ]
        }
      ]
    },
    {
      "cell_type": "code",
      "source": [
        "# 8. Write a program that determines if a year is a leap year or not."
      ],
      "metadata": {
        "id": "cviZ_V8gFfQi"
      },
      "execution_count": null,
      "outputs": []
    },
    {
      "cell_type": "code",
      "source": [
        "year = int(input('Enter a year '))\n",
        "if year%4==0 and year%100!=0 or year%400==0:\n",
        "  print(year,\" is a leap year.\")\n",
        "else:\n",
        "  print(year,\" is not a leap year.\")"
      ],
      "metadata": {
        "colab": {
          "base_uri": "https://localhost:8080/"
        },
        "id": "KmFQD7oAGfBm",
        "outputId": "02132c8b-8d02-408a-e677-15e4831d38b0"
      },
      "execution_count": null,
      "outputs": [
        {
          "output_type": "stream",
          "name": "stdout",
          "text": [
            "Enter a year 2024\n",
            "2024  is a leap year.\n"
          ]
        }
      ]
    },
    {
      "cell_type": "code",
      "source": [
        "# 9. Write a program that determines if a number is positive, negative, or zero.\n",
        "z = int(input(\"Enter a number \"))\n",
        "if z >0:\n",
        "  print(z,\" is a positive number.\")\n",
        "elif z<0:\n",
        "  print(z, \" is a negative number.\")\n",
        "else:\n",
        "  print(z,\" is Zero.\")"
      ],
      "metadata": {
        "colab": {
          "base_uri": "https://localhost:8080/"
        },
        "id": "dHNapg2YH4YO",
        "outputId": "ab8d9686-0c9d-4bb4-e667-a52edaace3b1"
      },
      "execution_count": null,
      "outputs": [
        {
          "output_type": "stream",
          "name": "stdout",
          "text": [
            "Enter a number 0\n",
            "0  is Zero.\n"
          ]
        }
      ]
    },
    {
      "cell_type": "code",
      "source": [
        "# 10. Write a program that calculates the grade based on a given percentage."
      ],
      "metadata": {
        "id": "88zoOo0fJLNn"
      },
      "execution_count": null,
      "outputs": []
    },
    {
      "cell_type": "code",
      "source": [
        "Result = int(input('Enter a Number : '))\n",
        "if Result>80:\n",
        "  print('Grade is A+')\n",
        "elif Result> 70:\n",
        "  print(\"Grade is A\")\n"
      ],
      "metadata": {
        "colab": {
          "base_uri": "https://localhost:8080/"
        },
        "id": "np5jTgAPJYPg",
        "outputId": "aa4a94ca-3063-49d3-f86e-dcd2a119733a"
      },
      "execution_count": null,
      "outputs": [
        {
          "output_type": "stream",
          "name": "stdout",
          "text": [
            "Enter a Number : 81\n",
            "Grade is A+\n"
          ]
        }
      ]
    },
    {
      "cell_type": "code",
      "source": [
        "# 11. Write a program that prints the first `n` natural numbers."
      ],
      "metadata": {
        "id": "B3F7LQRNJ5mg"
      },
      "execution_count": null,
      "outputs": []
    },
    {
      "cell_type": "code",
      "source": [
        "n=1\n",
        "for i in range(n,10+1):\n",
        "  print(i)"
      ],
      "metadata": {
        "colab": {
          "base_uri": "https://localhost:8080/"
        },
        "id": "97zQ7vDGbaYv",
        "outputId": "ef521300-5da8-44d6-b27d-39dfd409ccf7"
      },
      "execution_count": null,
      "outputs": [
        {
          "output_type": "stream",
          "name": "stdout",
          "text": [
            "1\n",
            "2\n",
            "3\n",
            "4\n",
            "5\n",
            "6\n",
            "7\n",
            "8\n",
            "9\n",
            "10\n"
          ]
        }
      ]
    },
    {
      "cell_type": "code",
      "source": [
        "# 12. Write a program that calculates the factorial of a number."
      ],
      "metadata": {
        "id": "smmMdqgzcKyS"
      },
      "execution_count": null,
      "outputs": []
    },
    {
      "cell_type": "code",
      "source": [
        "n=6\n",
        "factorial = 1\n",
        "for i in range(1,n+1):\n",
        "   factorial = factorial * i\n",
        "print(factorial)"
      ],
      "metadata": {
        "colab": {
          "base_uri": "https://localhost:8080/"
        },
        "id": "ZAzsvMCIcSfP",
        "outputId": "e2c14beb-b10d-49e4-a018-85ca639d114e"
      },
      "execution_count": null,
      "outputs": [
        {
          "output_type": "stream",
          "name": "stdout",
          "text": [
            "720\n"
          ]
        }
      ]
    },
    {
      "cell_type": "code",
      "source": [
        "# 13. Write a program that generates a Fibonacci sequence of length `n`."
      ],
      "metadata": {
        "id": "abgSSSrvd5gr"
      },
      "execution_count": null,
      "outputs": []
    },
    {
      "cell_type": "code",
      "source": [
        "\n",
        "a, b = 0, 1\n",
        "\n",
        "print(a, b)\n",
        "for i in range(10):\n",
        "    c = a + b\n",
        "    a = b\n",
        "    b = c\n",
        "    print(c)"
      ],
      "metadata": {
        "colab": {
          "base_uri": "https://localhost:8080/"
        },
        "id": "njcPtAq9grz7",
        "outputId": "2699d8c3-0d34-460c-b136-7a4bc01aec42"
      },
      "execution_count": null,
      "outputs": [
        {
          "output_type": "stream",
          "name": "stdout",
          "text": [
            "0 1\n",
            "1\n",
            "2\n",
            "3\n",
            "5\n",
            "8\n",
            "13\n",
            "21\n",
            "34\n",
            "55\n",
            "89\n"
          ]
        }
      ]
    },
    {
      "cell_type": "code",
      "source": [
        "# 14. Write a program that checks if a given number is prime or not."
      ],
      "metadata": {
        "id": "DvyL7pEBh59-"
      },
      "execution_count": null,
      "outputs": []
    },
    {
      "cell_type": "code",
      "source": [
        "num = 9\n",
        "for i in range(2,num):\n",
        "   if num%i==0:\n",
        "      print(num,'is not a prime')\n",
        "      break\n",
        "else:\n",
        "    print(num, 'is a prime')\n",
        "\n",
        "\n",
        "\n",
        "\n"
      ],
      "metadata": {
        "colab": {
          "base_uri": "https://localhost:8080/"
        },
        "id": "hSpfEJtPh6wF",
        "outputId": "1ebd7251-89e3-4e76-d4d4-bc3eb0552d7a"
      },
      "execution_count": null,
      "outputs": [
        {
          "output_type": "stream",
          "name": "stdout",
          "text": [
            "9 is not a prime\n",
            "9 is a prime\n"
          ]
        }
      ]
    },
    {
      "cell_type": "code",
      "source": [
        "# 15. Write a program that prints the multiplication table of a given number."
      ],
      "metadata": {
        "id": "kVb1ANNNiEpn"
      },
      "execution_count": null,
      "outputs": []
    },
    {
      "cell_type": "code",
      "source": [
        "num = 10\n",
        "for i in range(1, 11):\n",
        "   print(num, 'x', i, '=', num*i)"
      ],
      "metadata": {
        "colab": {
          "base_uri": "https://localhost:8080/"
        },
        "id": "qPlxHZHYiLqQ",
        "outputId": "6a3af649-6c80-4b37-80b5-aa0f8a2adeff"
      },
      "execution_count": null,
      "outputs": [
        {
          "output_type": "stream",
          "name": "stdout",
          "text": [
            "10 x 1 = 10\n",
            "10 x 2 = 20\n",
            "10 x 3 = 30\n",
            "10 x 4 = 40\n",
            "10 x 5 = 50\n",
            "10 x 6 = 60\n",
            "10 x 7 = 70\n",
            "10 x 8 = 80\n",
            "10 x 9 = 90\n",
            "10 x 10 = 100\n"
          ]
        }
      ]
    },
    {
      "cell_type": "code",
      "source": [
        "# 16. Write a program that finds the sum of all even numbers between 1 and `n`."
      ],
      "metadata": {
        "id": "j9dPzA01ijeI"
      },
      "execution_count": null,
      "outputs": []
    },
    {
      "cell_type": "code",
      "source": [
        "n = int(input(\"Enter a value \"))\n",
        "i = 2\n",
        "sum = 0\n",
        "\n",
        "while i<=n:\n",
        "  if i%2==0:\n",
        "    sum = sum+i\n",
        "  i+=1\n",
        "print(sum)\n",
        "\n"
      ],
      "metadata": {
        "colab": {
          "base_uri": "https://localhost:8080/"
        },
        "id": "rkAwYh5Bij4G",
        "outputId": "f24dc5f5-5eca-4ca3-fe79-8f5eba8fa1a2"
      },
      "execution_count": null,
      "outputs": [
        {
          "output_type": "stream",
          "name": "stdout",
          "text": [
            "Enter a value 10\n",
            "30\n"
          ]
        }
      ]
    },
    {
      "cell_type": "code",
      "source": [
        "# 17. Write a program that reverses a given number."
      ],
      "metadata": {
        "id": "arWiiyBzkKyM"
      },
      "execution_count": null,
      "outputs": []
    },
    {
      "cell_type": "code",
      "source": [
        "a = 56\n",
        "c = a%10\n",
        "b = c\n",
        "d = a-c\n",
        "d\n",
        "e = d/10\n",
        "f = b*10+e\n",
        "f"
      ],
      "metadata": {
        "colab": {
          "base_uri": "https://localhost:8080/"
        },
        "id": "5VpFK2pZZkxf",
        "outputId": "940a72dd-238b-46d5-bb3d-3d0c89bafe37"
      },
      "execution_count": null,
      "outputs": [
        {
          "output_type": "execute_result",
          "data": {
            "text/plain": [
              "65.0"
            ]
          },
          "metadata": {},
          "execution_count": 59
        }
      ]
    },
    {
      "cell_type": "code",
      "source": [
        "b"
      ],
      "metadata": {
        "id": "DgWvqeIgkLEK",
        "colab": {
          "base_uri": "https://localhost:8080/"
        },
        "outputId": "ff982ec6-7489-4d4c-dbe9-568cedb84bdd"
      },
      "execution_count": null,
      "outputs": [
        {
          "output_type": "execute_result",
          "data": {
            "text/plain": [
              "9"
            ]
          },
          "metadata": {},
          "execution_count": 44
        }
      ]
    },
    {
      "cell_type": "code",
      "source": [
        "a = 1436\n",
        "b = 0\n",
        "while a!=0:\n",
        "   c = a%10\n",
        "   b = b*10+c\n",
        "   a//=10\n",
        "print(str(b))"
      ],
      "metadata": {
        "colab": {
          "base_uri": "https://localhost:8080/"
        },
        "id": "Y30VnZuwaluI",
        "outputId": "e9cd8057-56f7-44b1-89f7-76faa5faa8c1"
      },
      "execution_count": null,
      "outputs": [
        {
          "output_type": "stream",
          "name": "stdout",
          "text": [
            "6341\n"
          ]
        }
      ]
    },
    {
      "cell_type": "code",
      "source": [
        "c=1436%10\n",
        "c"
      ],
      "metadata": {
        "colab": {
          "base_uri": "https://localhost:8080/"
        },
        "id": "-VC6-jSznwaE",
        "outputId": "759f25e5-665a-43c5-8c17-cc70f583245b"
      },
      "execution_count": null,
      "outputs": [
        {
          "output_type": "execute_result",
          "data": {
            "text/plain": [
              "6"
            ]
          },
          "metadata": {},
          "execution_count": 67
        }
      ]
    },
    {
      "cell_type": "code",
      "source": [
        "b =0\n",
        "b = b*10 + c\n",
        "b"
      ],
      "metadata": {
        "colab": {
          "base_uri": "https://localhost:8080/"
        },
        "id": "iml15Nqen3Mr",
        "outputId": "522e1354-394e-4ccf-c312-decca0941560"
      },
      "execution_count": null,
      "outputs": [
        {
          "output_type": "execute_result",
          "data": {
            "text/plain": [
              "6"
            ]
          },
          "metadata": {},
          "execution_count": 68
        }
      ]
    },
    {
      "cell_type": "code",
      "source": [
        "a=1436\n",
        "a//=10\n",
        "a"
      ],
      "metadata": {
        "colab": {
          "base_uri": "https://localhost:8080/"
        },
        "id": "FIsFFIayoKa2",
        "outputId": "4109727d-bd72-4854-e8b0-84727f4b252e"
      },
      "execution_count": null,
      "outputs": [
        {
          "output_type": "execute_result",
          "data": {
            "text/plain": [
              "143"
            ]
          },
          "metadata": {},
          "execution_count": 71
        }
      ]
    },
    {
      "cell_type": "code",
      "source": [
        "# 18. Write a program that checks if a given string, is a palindrome."
      ],
      "metadata": {
        "id": "OfpkOyJ0opaf"
      },
      "execution_count": null,
      "outputs": []
    },
    {
      "cell_type": "code",
      "source": [
        "a='rara'\n",
        "a[::-1]"
      ],
      "metadata": {
        "colab": {
          "base_uri": "https://localhost:8080/",
          "height": 36
        },
        "id": "Rp2OX9lvozlT",
        "outputId": "3e3df5cc-e237-4874-9920-0a2e8d521c36"
      },
      "execution_count": null,
      "outputs": [
        {
          "output_type": "execute_result",
          "data": {
            "text/plain": [
              "'arar'"
            ],
            "application/vnd.google.colaboratory.intrinsic+json": {
              "type": "string"
            }
          },
          "metadata": {},
          "execution_count": 1
        }
      ]
    },
    {
      "cell_type": "code",
      "source": [
        "a==a[::-1]"
      ],
      "metadata": {
        "colab": {
          "base_uri": "https://localhost:8080/"
        },
        "id": "G210f5ncC-32",
        "outputId": "b9d74325-a932-4c45-eb0d-c17d699ce2eb"
      },
      "execution_count": null,
      "outputs": [
        {
          "output_type": "execute_result",
          "data": {
            "text/plain": [
              "False"
            ]
          },
          "metadata": {},
          "execution_count": 2
        }
      ]
    },
    {
      "cell_type": "code",
      "source": [
        "a='mama'\n",
        "a==a[::-1]"
      ],
      "metadata": {
        "colab": {
          "base_uri": "https://localhost:8080/"
        },
        "id": "5RG6xxrxDPwX",
        "outputId": "322de9dd-4a90-424b-d22a-ae4986478b5d"
      },
      "execution_count": null,
      "outputs": [
        {
          "output_type": "execute_result",
          "data": {
            "text/plain": [
              "False"
            ]
          },
          "metadata": {},
          "execution_count": 3
        }
      ]
    },
    {
      "cell_type": "code",
      "source": [
        "a='yoy'\n",
        "a==a[::-1]"
      ],
      "metadata": {
        "colab": {
          "base_uri": "https://localhost:8080/"
        },
        "id": "BQmnpY8zDYB6",
        "outputId": "665156b9-e1ff-4cb3-cad7-2be6c480312f"
      },
      "execution_count": null,
      "outputs": [
        {
          "output_type": "execute_result",
          "data": {
            "text/plain": [
              "True"
            ]
          },
          "metadata": {},
          "execution_count": 5
        }
      ]
    },
    {
      "cell_type": "code",
      "source": [
        "a=input('write a string ')\n",
        "while True:\n",
        "  if a==a[::-1]:\n",
        "    print(a,' is a palindrome.')\n",
        "    break\n",
        "  else:\n",
        "     print(a,'is not a palindrome.')\n",
        "     break"
      ],
      "metadata": {
        "colab": {
          "base_uri": "https://localhost:8080/"
        },
        "id": "4lM7VMobDrj2",
        "outputId": "450699ca-2e4e-47bf-8045-470bff4118af"
      },
      "execution_count": null,
      "outputs": [
        {
          "output_type": "stream",
          "name": "stdout",
          "text": [
            "write a string hello\n",
            "hello is not a palindrome.\n"
          ]
        }
      ]
    },
    {
      "cell_type": "code",
      "source": [
        "# 19. Write a program that generates a random number and allows the user to guess it."
      ],
      "metadata": {
        "id": "smTiUVd-EyUS"
      },
      "execution_count": null,
      "outputs": []
    },
    {
      "cell_type": "code",
      "source": [
        "import random\n",
        "a = random.randint(1,5)\n",
        "Guess = int(input('Enter a number '))\n",
        "while True:\n",
        "  if Guess == a:\n",
        "    print(\"Guess is correct\",'and Number is',a)\n",
        "    break\n",
        "  else:\n",
        "    print(\"Guess is not correct\",'and Number is',a)\n",
        "    break"
      ],
      "metadata": {
        "colab": {
          "base_uri": "https://localhost:8080/"
        },
        "id": "eummUdsHFE6R",
        "outputId": "9b6eaa9f-f975-4fcb-eb7d-f9e40b71396b"
      },
      "execution_count": null,
      "outputs": [
        {
          "output_type": "stream",
          "name": "stdout",
          "text": [
            "Enter a number 6\n",
            "Guess is not correct and Number is 2\n"
          ]
        }
      ]
    },
    {
      "cell_type": "code",
      "source": [
        "# 20. Write a program that finds the greatest common divisor (GCD) of two numbers."
      ],
      "metadata": {
        "id": "pZ4D5Bi4IqSt"
      },
      "execution_count": null,
      "outputs": []
    },
    {
      "cell_type": "code",
      "source": [
        "8/2"
      ],
      "metadata": {
        "colab": {
          "base_uri": "https://localhost:8080/"
        },
        "id": "ODMeQ5rLIvZp",
        "outputId": "bea8101b-2c21-4c39-8a00-f40419d10b3b"
      },
      "execution_count": null,
      "outputs": [
        {
          "output_type": "execute_result",
          "data": {
            "text/plain": [
              "4.0"
            ]
          },
          "metadata": {},
          "execution_count": 29
        }
      ]
    },
    {
      "cell_type": "code",
      "source": [
        "num1 = 36\n",
        "num2 = 42\n",
        "a = num1\n",
        "b = num2\n",
        "\n",
        "while num1 != num2:\n",
        "    if num1 > num2:\n",
        "        num1 -= num2\n",
        "    else:\n",
        "        num2 -= num1\n",
        "\n",
        "print(\"GCD of\", a, \"and\", b, \"is\", num1)"
      ],
      "metadata": {
        "colab": {
          "base_uri": "https://localhost:8080/"
        },
        "id": "viNSL7rSJyXe",
        "outputId": "a69eaf78-5bbf-456d-d2d6-8506644fccab"
      },
      "execution_count": null,
      "outputs": [
        {
          "output_type": "stream",
          "name": "stdout",
          "text": [
            "GCD of 36 and 42 is 6\n"
          ]
        }
      ]
    }
  ]
}